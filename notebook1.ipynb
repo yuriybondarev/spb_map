{
 "cells": [
  {
   "cell_type": "code",
   "execution_count": null,
   "metadata": {},
   "outputs": [],
   "source": [
    "import numpy as np\n",
    "print(\"1\")\n",
    "# from sklearn.datasets import load_digits\n",
    "# from sklearn.model_selection import train_test_split\n",
    "from sklearn.preprocessing import StandardScaler\n",
    "print(\"2\")\n",
    "import matplotlib.pyplot as plt\n",
    "print(\"3\")\n",
    "# import seaborn as sns\n",
    "import pandas as pd\n",
    "print(\"4\")\n",
    "# import umap.umap_ as umap\n",
    "from umap import UMAP\n",
    "print(\"5\")\n"
   ]
  },
  {
   "cell_type": "code",
   "execution_count": null,
   "metadata": {},
   "outputs": [],
   "source": [
    "f = pd.read_csv(\"cluster_result.csv\", index_col=0)\n",
    "# reducer = umap.UMAP()\n",
    "reducer = UMAP()\n",
    "cluster_data = f[\n",
    "    [\n",
    "        \"Words\",\n",
    "        \"Hashtags\",\n",
    "        \"Others\",\n",
    "        \"Keywords\",\n",
    "    ]\n",
    "].values\n",
    "scaled_cluster_data = StandardScaler().fit_transform(cluster_data)\n",
    "embedding = reducer.fit_transform(scaled_cluster_data)\n",
    "print(embedding.shape)\n"
   ]
  },
  {
   "cell_type": "code",
   "execution_count": null,
   "metadata": {},
   "outputs": [],
   "source": [
    "plt.scatter(\n",
    "    embedding[:, 0],\n",
    "    embedding[:, 1],\n",
    "    c=[sns.color_palette()[x] for x in f.result])\n",
    "plt.gca().set_aspect('equal', 'datalim')\n",
    "plt.title('UMAP-проекция для набора текстов', fontsize=24)"
   ]
  }
 ],
 "metadata": {
  "kernelspec": {
   "display_name": "Python 3",
   "language": "python",
   "name": "python3"
  },
  "language_info": {
   "codemirror_mode": {
    "name": "ipython",
    "version": 3
   },
   "file_extension": ".py",
   "mimetype": "text/x-python",
   "name": "python",
   "nbconvert_exporter": "python",
   "pygments_lexer": "ipython3",
   "version": "3.7.3"
  }
 },
 "nbformat": 4,
 "nbformat_minor": 2
}
